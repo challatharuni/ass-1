{
 "cells": [
  {
   "cell_type": "code",
   "execution_count": 1,
   "id": "e06f08cb-ea92-4866-9b62-3990f001a523",
   "metadata": {},
   "outputs": [
    {
     "name": "stdout",
     "output_type": "stream",
     "text": [
      "Integer variable: 42 Type: <class 'int'>\n",
      "Float variable: 3.14 Type: <class 'float'>\n",
      "String variable: Hello, World! Type: <class 'str'>\n",
      "Boolean variable: True Type: <class 'bool'>\n"
     ]
    }
   ],
   "source": [
    "integer_var = 42               # Integer type\n",
    "float_var = 3.14               # Float type\n",
    "string_var = \"Hello, World!\"   # String type\n",
    "boolean_var = True             # Boolean type\n",
    "\n",
    "# Print each variable and its type\n",
    "print(\"Integer variable:\", integer_var, \"Type:\", type(integer_var))\n",
    "print(\"Float variable:\", float_var, \"Type:\", type(float_var))\n",
    "print(\"String variable:\", string_var, \"Type:\", type(string_var))\n",
    "print(\"Boolean variable:\", boolean_var, \"Type:\", type(boolean_var))"
   ]
  },
  {
   "cell_type": "code",
   "execution_count": null,
   "id": "c8c4b0f5-d397-40c6-ae3b-6bd35f2820e2",
   "metadata": {},
   "outputs": [],
   "source": []
  }
 ],
 "metadata": {
  "kernelspec": {
   "display_name": "Python 3 (ipykernel)",
   "language": "python",
   "name": "python3"
  },
  "language_info": {
   "codemirror_mode": {
    "name": "ipython",
    "version": 3
   },
   "file_extension": ".py",
   "mimetype": "text/x-python",
   "name": "python",
   "nbconvert_exporter": "python",
   "pygments_lexer": "ipython3",
   "version": "3.12.7"
  }
 },
 "nbformat": 4,
 "nbformat_minor": 5
}
